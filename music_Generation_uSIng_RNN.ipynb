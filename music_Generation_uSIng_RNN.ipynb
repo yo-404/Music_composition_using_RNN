{
  "cells": [
    {
      "cell_type": "code",
      "execution_count": null,
      "metadata": {
        "id": "mx4FR7_aH8yq"
      },
      "outputs": [],
      "source": [
        "# Imports\n",
        "from music21 import converter, instrument, note, chord, stream, midi\n",
        "import glob\n",
        "import time\n",
        "import numpy as np\n",
        "import tensorflow.keras.utils as utils\n",
        "import pandas as pd"
      ]
    },
    {
      "cell_type": "markdown",
      "metadata": {
        "id": "WumpIkwDH8yr"
      },
      "source": [
        "# Music Generation with an RNN\n",
        "\n",
        "- Music is a complex phenomenon with many representations (e.g., digital audio, musical scores, lead sheets)\n",
        "- A simple representation of music is as a sequence of notes and rests:\n",
        "    - (equivalent to one line of melody)\n",
        "\n",
        "\n",
        "## A simple music representation\n",
        "\n",
        "- Our musical representation is going be a sequence of integers between 0 and 129.\n",
        "- Each integer represents a musical instruction lasting for one sixteenth note (one semiquaver) of duration.\n",
        "    - This is a typical level of detail for electronic music sequencers.\n",
        "- MIDI is a standard way of encoding instructions for synthesised instruments and can represent whole musical scores.\n",
        "    - Standard MIDI allows 128 pitches (there are only 88 on a piano keyboard) where number 60 is 'middle C'.\n",
        "    \n",
        "#### Melody-RNN Encoding\n",
        "\n",
        "- 0-127 play a note at that MIDI note number. (`MELODY_NOTE_ON`)\n",
        "- 128 stop whatever note was playing. (`MELODY_NOTE_OFF`)\n",
        "- 129 do nothing. (`MELODY_NO_EVENT`)\n",
        "    \n",
        "This encoding should allow long notes (a note-on followed by one or more no-change events, then a note-off), and rests (a note-off followed by one or more no-change events).\n",
        "\n",
        "Here's a standard melody converted into this format:\n",
        "\n",
        "![](https://github.com/cpmpercussion/creative-prediction/blob/master/notebooks/figures/wm_score_example.png?raw=1)\n",
        "\n",
        "<!-- NB: Google's [Magenta project](https://magenta.tensorflow.org/) have created some really great musical RNNs, with lots of advanced features. This script focusses on simplicity and clarity instead! -->"
      ]
    },
    {
      "cell_type": "markdown",
      "metadata": {
        "id": "PKB-a0Y8H8yt"
      },
      "source": [
        "### Convert between MIDI files and numpy arrays in melody format\n",
        "\n",
        "- Music is more complex than text (e.g., more than one note might happen at once). \n",
        "- We use the Music21 library to read MIDI music filescand then convert to our Melody-RNN format.\n",
        "- The functions below turn a Music21 \"stream\" (of notes) into a numpy array of 8-bit integers.\n",
        "- All complex rhythms are simplified to sixteenth note versions.\n",
        "- Chords are simplified to the highest note.\n",
        "\n"
      ]
    },
    {
      "cell_type": "code",
      "execution_count": null,
      "metadata": {
        "id": "4W6Cdou1H8yu"
      },
      "outputs": [],
      "source": [
        "# Melody-RNN Format is a sequence of 8-bit integers indicating the following:\n",
        "# MELODY_NOTE_ON = [0, 127] # (note on at that MIDI pitch)\n",
        "MELODY_NOTE_OFF = 128 # (stop playing all previous notes)\n",
        "MELODY_NO_EVENT = 129 # (no change from previous event)\n",
        "# Each element in the sequence lasts for one sixteenth note.\n",
        "# This can encode monophonic music only.\n",
        "\n",
        "def streamToNoteArray(stream):\n",
        "    \"\"\"\n",
        "    Convert a Music21 sequence to a numpy array of int8s into Melody-RNN format:\n",
        "        0-127 - note on at specified pitch\n",
        "        128   - note off\n",
        "        129   - no event\n",
        "    \"\"\"\n",
        "    # Part one, extract from stream\n",
        "    total_length = int(np.round(stream.flat.highestTime / 0.25)) # in semiquavers\n",
        "    stream_list = []\n",
        "    for element in stream.flat:\n",
        "        if isinstance(element, note.Note):\n",
        "            stream_list.append([np.round(element.offset / 0.25), np.round(element.quarterLength / 0.25), element.pitch.midi])\n",
        "        elif isinstance(element, chord.Chord):\n",
        "            stream_list.append([np.round(element.offset / 0.25), np.round(element.quarterLength / 0.25), element.sortAscending().pitches[-1].midi])\n",
        "    np_stream_list = np.array(stream_list, dtype=int)\n",
        "    df = pd.DataFrame({'pos': np_stream_list.T[0], 'dur': np_stream_list.T[1], 'pitch': np_stream_list.T[2]})\n",
        "    df = df.sort_values(['pos','pitch'], ascending=[True, False]) # sort the dataframe properly\n",
        "    df = df.drop_duplicates(subset=['pos']) # drop duplicate values\n",
        "    # part 2, convert into a sequence of note events\n",
        "    output = np.zeros(total_length+1, dtype=np.int16) + np.int16(MELODY_NO_EVENT)  # set array full of no events by default.\n",
        "    # Fill in the output list\n",
        "    for i in range(total_length):\n",
        "        if not df[df.pos==i].empty:\n",
        "            n = df[df.pos==i].iloc[0] # pick the highest pitch at each semiquaver\n",
        "            output[i] = n.pitch # set note on\n",
        "            output[i+n.dur] = MELODY_NOTE_OFF\n",
        "    return output\n",
        "\n",
        "\n",
        "def noteArrayToDataFrame(note_array):\n",
        "    \"\"\"\n",
        "    Convert a numpy array containing a Melody-RNN sequence into a dataframe.\n",
        "    \"\"\"\n",
        "    df = pd.DataFrame({\"code\": note_array})\n",
        "    df['offset'] = df.index\n",
        "    df['duration'] = df.index\n",
        "    df = df[df.code != MELODY_NO_EVENT]\n",
        "    df.duration = df.duration.diff(-1) * -1 * 0.25  # calculate durations and change to quarter note fractions\n",
        "    df = df.fillna(0.25)\n",
        "    return df[['code','duration']]\n",
        "\n",
        "\n",
        "def noteArrayToStream(note_array):\n",
        "    \"\"\"\n",
        "    Convert a numpy array containing a Melody-RNN sequence into a music21 stream.\n",
        "    \"\"\"\n",
        "    df = noteArrayToDataFrame(note_array)\n",
        "    melody_stream = stream.Stream()\n",
        "    for index, row in df.iterrows():\n",
        "        if row.code == MELODY_NO_EVENT:\n",
        "            new_note = note.Rest() # bit of an oversimplification, doesn't produce long notes.\n",
        "        elif row.code == MELODY_NOTE_OFF:\n",
        "            new_note = note.Rest()\n",
        "        else:\n",
        "            new_note = note.Note(row.code)\n",
        "        new_note.quarterLength = row.duration\n",
        "        melody_stream.append(new_note)\n",
        "    return melody_stream\n"
      ]
    },
    {
      "cell_type": "code",
      "execution_count": null,
      "metadata": {
        "id": "xuP5BTA8H8yw"
      },
      "outputs": [],
      "source": [
        "## Play a melody stream\n",
        "# sp = midi.realtime.StreamPlayer(melody_stream)\n",
        "# sp.play()"
      ]
    },
    {
      "cell_type": "code",
      "execution_count": null,
      "metadata": {
        "id": "yVUBQpiWH8yw"
      },
      "outputs": [],
      "source": [
        "# for setting up musescore and musicxml rendering on linux:\n",
        "# from music21 import environment\n",
        "# us = environment.UserSettings()\n",
        "# us.create()\n",
        "# us['musescoreDirectPNGPath'] = '/usr/bin/mscore3'\n",
        "# us['musicxmlPath'] = '/usr/bin/mscore3'"
      ]
    },
    {
      "cell_type": "code",
      "execution_count": null,
      "metadata": {
        "id": "NmG5Qn6GH8yx",
        "outputId": "2999ed97-c947-4bc4-a217-11ecb1d4a089",
        "colab": {
          "base_uri": "https://localhost:8080/",
          "height": 387
        }
      },
      "outputs": [
        {
          "output_type": "error",
          "ename": "SubConverterException",
          "evalue": "ignored",
          "traceback": [
            "\u001b[0;31m---------------------------------------------------------------------------\u001b[0m",
            "\u001b[0;31mSubConverterException\u001b[0m                     Traceback (most recent call last)",
            "\u001b[0;32m<ipython-input-6-315d915f5211>\u001b[0m in \u001b[0;36m<cell line: 2>\u001b[0;34m()\u001b[0m\n\u001b[1;32m      1\u001b[0m \u001b[0mwm_mid\u001b[0m \u001b[0;34m=\u001b[0m \u001b[0mconverter\u001b[0m\u001b[0;34m.\u001b[0m\u001b[0mparse\u001b[0m\u001b[0;34m(\u001b[0m\u001b[0;34m\"/datasets/cherry-ripe.mid\"\u001b[0m\u001b[0;34m)\u001b[0m\u001b[0;34m\u001b[0m\u001b[0;34m\u001b[0m\u001b[0m\n\u001b[0;32m----> 2\u001b[0;31m \u001b[0mwm_mid\u001b[0m\u001b[0;34m.\u001b[0m\u001b[0mshow\u001b[0m\u001b[0;34m(\u001b[0m\u001b[0;34m)\u001b[0m\u001b[0;34m\u001b[0m\u001b[0;34m\u001b[0m\u001b[0m\n\u001b[0m\u001b[1;32m      3\u001b[0m \u001b[0mwm_mel_rnn\u001b[0m \u001b[0;34m=\u001b[0m \u001b[0mstreamToNoteArray\u001b[0m\u001b[0;34m(\u001b[0m\u001b[0mwm_mid\u001b[0m\u001b[0;34m)\u001b[0m\u001b[0;34m\u001b[0m\u001b[0;34m\u001b[0m\u001b[0m\n\u001b[1;32m      4\u001b[0m \u001b[0mprint\u001b[0m\u001b[0;34m(\u001b[0m\u001b[0mwm_mel_rnn\u001b[0m\u001b[0;34m)\u001b[0m\u001b[0;34m\u001b[0m\u001b[0;34m\u001b[0m\u001b[0m\n\u001b[1;32m      5\u001b[0m \u001b[0mnoteArrayToStream\u001b[0m\u001b[0;34m(\u001b[0m\u001b[0mwm_mel_rnn\u001b[0m\u001b[0;34m)\u001b[0m\u001b[0;34m.\u001b[0m\u001b[0mshow\u001b[0m\u001b[0;34m(\u001b[0m\u001b[0;34m)\u001b[0m\u001b[0;34m\u001b[0m\u001b[0;34m\u001b[0m\u001b[0m\n",
            "\u001b[0;32m/usr/local/lib/python3.9/dist-packages/music21/stream/base.py\u001b[0m in \u001b[0;36mshow\u001b[0;34m(self, fmt, app, **keywords)\u001b[0m\n\u001b[1;32m    395\u001b[0m         \u001b[0;32mif\u001b[0m \u001b[0mself\u001b[0m\u001b[0;34m.\u001b[0m\u001b[0misSorted\u001b[0m \u001b[0;32mis\u001b[0m \u001b[0;32mFalse\u001b[0m \u001b[0;32mand\u001b[0m \u001b[0mself\u001b[0m\u001b[0;34m.\u001b[0m\u001b[0mautoSort\u001b[0m\u001b[0;34m:\u001b[0m\u001b[0;34m\u001b[0m\u001b[0;34m\u001b[0m\u001b[0m\n\u001b[1;32m    396\u001b[0m             \u001b[0mself\u001b[0m\u001b[0;34m.\u001b[0m\u001b[0msort\u001b[0m\u001b[0;34m(\u001b[0m\u001b[0;34m)\u001b[0m\u001b[0;34m\u001b[0m\u001b[0;34m\u001b[0m\u001b[0m\n\u001b[0;32m--> 397\u001b[0;31m         \u001b[0;32mreturn\u001b[0m \u001b[0msuper\u001b[0m\u001b[0;34m(\u001b[0m\u001b[0;34m)\u001b[0m\u001b[0;34m.\u001b[0m\u001b[0mshow\u001b[0m\u001b[0;34m(\u001b[0m\u001b[0mfmt\u001b[0m\u001b[0;34m=\u001b[0m\u001b[0mfmt\u001b[0m\u001b[0;34m,\u001b[0m \u001b[0mapp\u001b[0m\u001b[0;34m=\u001b[0m\u001b[0mapp\u001b[0m\u001b[0;34m,\u001b[0m \u001b[0;34m**\u001b[0m\u001b[0mkeywords\u001b[0m\u001b[0;34m)\u001b[0m\u001b[0;34m\u001b[0m\u001b[0;34m\u001b[0m\u001b[0m\n\u001b[0m\u001b[1;32m    398\u001b[0m \u001b[0;34m\u001b[0m\u001b[0m\n\u001b[1;32m    399\u001b[0m     \u001b[0;31m# --------------------------------------------------------------------------\u001b[0m\u001b[0;34m\u001b[0m\u001b[0;34m\u001b[0m\u001b[0m\n",
            "\u001b[0;32m/usr/local/lib/python3.9/dist-packages/music21/base.py\u001b[0m in \u001b[0;36mshow\u001b[0;34m(self, fmt, app, **keywords)\u001b[0m\n\u001b[1;32m   2886\u001b[0m         \u001b[0mscClass\u001b[0m \u001b[0;34m=\u001b[0m \u001b[0mcommon\u001b[0m\u001b[0;34m.\u001b[0m\u001b[0mfindSubConverterForFormat\u001b[0m\u001b[0;34m(\u001b[0m\u001b[0mregularizedConverterFormat\u001b[0m\u001b[0;34m)\u001b[0m\u001b[0;34m\u001b[0m\u001b[0;34m\u001b[0m\u001b[0m\n\u001b[1;32m   2887\u001b[0m         \u001b[0mformatWriter\u001b[0m \u001b[0;34m=\u001b[0m \u001b[0mscClass\u001b[0m\u001b[0;34m(\u001b[0m\u001b[0;34m)\u001b[0m\u001b[0;34m\u001b[0m\u001b[0;34m\u001b[0m\u001b[0m\n\u001b[0;32m-> 2888\u001b[0;31m         return formatWriter.show(self,\n\u001b[0m\u001b[1;32m   2889\u001b[0m                                  \u001b[0mregularizedConverterFormat\u001b[0m\u001b[0;34m,\u001b[0m\u001b[0;34m\u001b[0m\u001b[0;34m\u001b[0m\u001b[0m\n\u001b[1;32m   2890\u001b[0m                                  \u001b[0mapp\u001b[0m\u001b[0;34m=\u001b[0m\u001b[0mapp\u001b[0m\u001b[0;34m,\u001b[0m\u001b[0;34m\u001b[0m\u001b[0;34m\u001b[0m\u001b[0m\n",
            "\u001b[0;32m/usr/local/lib/python3.9/dist-packages/music21/converter/subConverters.py\u001b[0m in \u001b[0;36mshow\u001b[0;34m(self, obj, fmt, app, subformats, **keywords)\u001b[0m\n\u001b[1;32m    393\u001b[0m \u001b[0;34m\u001b[0m\u001b[0m\n\u001b[1;32m    394\u001b[0m             \u001b[0;32mfor\u001b[0m \u001b[0ms\u001b[0m \u001b[0;32min\u001b[0m \u001b[0mscores\u001b[0m\u001b[0;34m:\u001b[0m\u001b[0;34m\u001b[0m\u001b[0;34m\u001b[0m\u001b[0m\n\u001b[0;32m--> 395\u001b[0;31m                 fp = helperSubConverter.write(s,\n\u001b[0m\u001b[1;32m    396\u001b[0m                                               \u001b[0mhelperFormat\u001b[0m\u001b[0;34m,\u001b[0m\u001b[0;34m\u001b[0m\u001b[0;34m\u001b[0m\u001b[0m\n\u001b[1;32m    397\u001b[0m                                               \u001b[0msubformats\u001b[0m\u001b[0;34m=\u001b[0m\u001b[0mhelperSubformats\u001b[0m\u001b[0;34m,\u001b[0m\u001b[0;34m\u001b[0m\u001b[0;34m\u001b[0m\u001b[0m\n",
            "\u001b[0;32m/usr/local/lib/python3.9/dist-packages/music21/converter/subConverters.py\u001b[0m in \u001b[0;36mwrite\u001b[0;34m(self, obj, fmt, fp, subformats, makeNotation, compress, **keywords)\u001b[0m\n\u001b[1;32m   1136\u001b[0m                 \u001b[0;32mand\u001b[0m \u001b[0;34m(\u001b[0m\u001b[0;34m'png'\u001b[0m \u001b[0;32min\u001b[0m \u001b[0msubformats\u001b[0m \u001b[0;32mor\u001b[0m \u001b[0;34m'pdf'\u001b[0m \u001b[0;32min\u001b[0m \u001b[0msubformats\u001b[0m\u001b[0;34m)\u001b[0m\u001b[0;34m\u001b[0m\u001b[0;34m\u001b[0m\u001b[0m\n\u001b[1;32m   1137\u001b[0m                 and not str(environLocal['musescoreDirectPNGPath']).startswith('/skip')):\n\u001b[0;32m-> 1138\u001b[0;31m             \u001b[0moutFp\u001b[0m \u001b[0;34m=\u001b[0m \u001b[0mself\u001b[0m\u001b[0;34m.\u001b[0m\u001b[0mrunThroughMusescore\u001b[0m\u001b[0;34m(\u001b[0m\u001b[0mxmlFp\u001b[0m\u001b[0;34m,\u001b[0m \u001b[0msubformats\u001b[0m\u001b[0;34m,\u001b[0m \u001b[0;34m**\u001b[0m\u001b[0mkeywords\u001b[0m\u001b[0;34m)\u001b[0m\u001b[0;34m\u001b[0m\u001b[0;34m\u001b[0m\u001b[0m\n\u001b[0m\u001b[1;32m   1139\u001b[0m         \u001b[0;32melif\u001b[0m \u001b[0mcompress\u001b[0m\u001b[0;34m:\u001b[0m\u001b[0;34m\u001b[0m\u001b[0;34m\u001b[0m\u001b[0m\n\u001b[1;32m   1140\u001b[0m             archiveTools.compressXML(xmlFp,\n",
            "\u001b[0;32m/usr/local/lib/python3.9/dist-packages/music21/converter/subConverters.py\u001b[0m in \u001b[0;36mrunThroughMusescore\u001b[0;34m(self, fp, subformats, dpi, **keywords)\u001b[0m\n\u001b[1;32m    970\u001b[0m                 + 'put a link to it in your .music21rc via Environment.')\n\u001b[1;32m    971\u001b[0m         \u001b[0;32mif\u001b[0m \u001b[0;32mnot\u001b[0m \u001b[0mmusescorePath\u001b[0m\u001b[0;34m.\u001b[0m\u001b[0mexists\u001b[0m\u001b[0;34m(\u001b[0m\u001b[0;34m)\u001b[0m\u001b[0;34m:\u001b[0m\u001b[0;34m\u001b[0m\u001b[0;34m\u001b[0m\u001b[0m\n\u001b[0;32m--> 972\u001b[0;31m             raise SubConverterException(\n\u001b[0m\u001b[1;32m    973\u001b[0m                 \u001b[0;34m\"Cannot find a path to the 'mscore' file at \"\u001b[0m\u001b[0;34m\u001b[0m\u001b[0;34m\u001b[0m\u001b[0m\n\u001b[1;32m    974\u001b[0m                 + f'{musescorePath} -- download MuseScore')\n",
            "\u001b[0;31mSubConverterException\u001b[0m: Cannot find a path to the 'mscore' file at /usr/bin/mscore3 -- download MuseScore"
          ]
        }
      ],
      "source": [
        "wm_mid = converter.parse(\"/datasets/cherry-ripe.mid\")\n",
        "wm_mid.show()\n",
        "wm_mel_rnn = streamToNoteArray(wm_mid)\n",
        "print(wm_mel_rnn)\n",
        "noteArrayToStream(wm_mel_rnn).show()"
      ]
    },
    {
      "cell_type": "markdown",
      "metadata": {
        "id": "71PLH-GiH8yy"
      },
      "source": [
        "## Construct a dataset of popular melodies\n",
        "\n",
        "Open some midi files and extract the melodies as numpy note sequence arrays."
      ]
    },
    {
      "cell_type": "code",
      "execution_count": null,
      "metadata": {
        "id": "D4COC1QBH8yz",
        "colab": {
          "base_uri": "https://localhost:8080/"
        },
        "outputId": "beeccd4c-2546-49d4-8295-4c6e949db649"
      },
      "outputs": [
        {
          "output_type": "stream",
          "name": "stdout",
          "text": [
            "Converted: ../datasets/beethoven-symphony7-2-easy-piano.mid it took 0.6554505699999709\n",
            "Converted: ../datasets/beethoven-symphony7-2-medium-piano.mid it took 9.569351238000024\n",
            "Converted: ../datasets/beethoven-symphony7-2-liszt-piano.mid it took 9.121399249999968\n",
            "Converted: ../datasets/cherry-ripe-piano-solo.mid it took 2.8649168029999714\n",
            "Converted: ../datasets/cherry-ripe.mid it took 0.5327016990000288\n"
          ]
        },
        {
          "output_type": "stream",
          "name": "stderr",
          "text": [
            "<ipython-input-7-dc05b12ce039>:18: VisibleDeprecationWarning: Creating an ndarray from ragged nested sequences (which is a list-or-tuple of lists-or-tuples-or ndarrays with different lengths or shapes) is deprecated. If you meant to do this, you must specify 'dtype=object' when creating the ndarray.\n",
            "  training_dataset = np.array(training_arrays)\n"
          ]
        }
      ],
      "source": [
        "import time\n",
        "midi_files = glob.glob(\"../datasets/*.mid\") \n",
        "\n",
        "training_arrays = []\n",
        "for f in midi_files:\n",
        "    start = time.perf_counter()\n",
        "    try:\n",
        "        s = converter.parse(f)\n",
        "    except:\n",
        "        continue\n",
        "#     for p in s.parts: # extract all voices\n",
        "#         arr = streamToNoteArray(p)\n",
        "#         training_arrays.append(p)\n",
        "    arr = streamToNoteArray(s.parts[0]) # just extract first voice\n",
        "    training_arrays.append(arr)\n",
        "    print(\"Converted:\", f, \"it took\", time.perf_counter() - start)\n",
        "\n",
        "training_dataset = np.array(training_arrays)\n",
        "np.savez('melody_training_dataset.npz', train=training_dataset)"
      ]
    },
    {
      "cell_type": "markdown",
      "metadata": {
        "id": "0Fnq3OYkH8y0"
      },
      "source": [
        "# Load Training Data and Create RNN\n",
        "\n",
        "In the following we load in the training dataset, slice the melodies into example sequences and build our Melody RNN."
      ]
    },
    {
      "cell_type": "code",
      "execution_count": null,
      "metadata": {
        "id": "wq8i_Wt8H8y0",
        "colab": {
          "base_uri": "https://localhost:8080/"
        },
        "outputId": "cffc91cb-36b6-4865-d266-67adc02bf667"
      },
      "outputs": [
        {
          "output_type": "stream",
          "name": "stdout",
          "text": [
            "Training melodies: 5\n"
          ]
        }
      ],
      "source": [
        "# Training Hyperparameters:\n",
        "VOCABULARY_SIZE = 130 # known 0-127 notes + 128 note_off + 129 no_event\n",
        "SEQ_LEN = 30\n",
        "BATCH_SIZE = 64\n",
        "HIDDEN_UNITS = 256\n",
        "EPOCHS = 50\n",
        "SEED = 2345  # 2345 seems to be good.\n",
        "np.random.seed(SEED)\n",
        "\n",
        "## Load up some melodies I prepared earlier...\n",
        "with np.load('../datasets/melody_training_dataset.npz', allow_pickle=True) as data:\n",
        "    train_set = data['train']\n",
        "\n",
        "print(\"Training melodies:\", len(train_set))"
      ]
    },
    {
      "cell_type": "code",
      "execution_count": null,
      "metadata": {
        "id": "zKx79OiBH8y1",
        "colab": {
          "base_uri": "https://localhost:8080/"
        },
        "outputId": "69f2d9e0-8b72-4a04-d430-39902dc3ea34"
      },
      "outputs": [
        {
          "output_type": "stream",
          "name": "stdout",
          "text": [
            "Total Training Corpus:\n",
            "X: (6419, 30)\n",
            "y: (6419,)\n",
            "\n",
            "Looking at one example:\n",
            "X: [128  59 129 128 129  59 129 128 129  54 129 129 129  54 128  56 128  57\n",
            " 129 128 129  57 129 128 129  52 129 129 129  52]\n",
            "y: 128\n"
          ]
        }
      ],
      "source": [
        "def slice_sequence_examples(sequence, num_steps):\n",
        "    \"\"\"Slice a sequence into redundant sequences of lenght num_steps.\"\"\"\n",
        "    xs = []\n",
        "    for i in range(len(sequence) - num_steps - 1):\n",
        "        example = sequence[i: i + num_steps]\n",
        "        xs.append(example)\n",
        "    return xs\n",
        "\n",
        "def seq_to_singleton_format(examples):\n",
        "    \"\"\"\n",
        "    Return the examples in seq to singleton format.\n",
        "    \"\"\"\n",
        "    xs = []\n",
        "    ys = []\n",
        "    for ex in examples:\n",
        "        xs.append(ex[:-1])\n",
        "        ys.append(ex[-1])\n",
        "    return (xs,ys)\n",
        "\n",
        "# Prepare training data as X and Y.\n",
        "# This slices the melodies into sequences of length SEQ_LEN+1.\n",
        "# Then, each sequence is split into an X of length SEQ_LEN and a y of length 1.\n",
        "\n",
        "# Slice the sequences:\n",
        "slices = []\n",
        "for seq in train_set:\n",
        "    slices +=  slice_sequence_examples(seq, SEQ_LEN+1)\n",
        "\n",
        "# Split the sequences into Xs and ys:\n",
        "X, y = seq_to_singleton_format(slices)\n",
        "# Convert into numpy arrays.\n",
        "X = np.array(X)\n",
        "y = np.array(y)\n",
        "\n",
        "# Look at the size of the training corpus:\n",
        "print(\"Total Training Corpus:\")\n",
        "print(\"X:\", X.shape)\n",
        "print(\"y:\", y.shape)\n",
        "print()\n",
        "\n",
        "# Have a look at one example:\n",
        "print(\"Looking at one example:\")\n",
        "print(\"X:\", X[95])\n",
        "print(\"y:\", y[95])\n",
        "# Note: Music data is sparser than text, there's lots of 129s (do nothing)\n",
        "# and few examples of any particular note on.\n",
        "# As a result, it's a bit harder to train a melody-rnn."
      ]
    },
    {
      "cell_type": "code",
      "execution_count": null,
      "metadata": {
        "id": "FktxJdaqH8y1",
        "colab": {
          "base_uri": "https://localhost:8080/",
          "height": 697
        },
        "outputId": "d9284c2b-f5bf-45d3-f804-c410680a9284"
      },
      "outputs": [
        {
          "output_type": "stream",
          "name": "stdout",
          "text": [
            "Number of notes:\n",
            "(6579,)\n",
            "Notes that do appear:\n",
            "[ 37  40  43  44  45  47  48  49  50  51  52  53  54  55  56  57  58  59\n",
            "  60  61  62  63  64  65  66  67  68  69  70  71  72  73  74  75  76  77\n",
            "  78  79  80  81  83  84  85  86  87  88  89  90  91  92  93  95 128 129]\n",
            "Notes that don't appear:\n",
            "[  0   1   2   3   4   5   6   7   8   9  10  11  12  13  14  15  16  17\n",
            "  18  19  20  21  22  23  24  25  26  27  28  29  30  31  32  33  34  35\n",
            "  36  38  39  41  42  46  82  94  96  97  98  99 100 101 102 103 104 105\n",
            " 106 107 108 109 110 111 112 113 114 115 116 117 118 119 120 121 122 123\n",
            " 124 125 126 127]\n",
            "Plot the relative occurences of each note:\n"
          ]
        },
        {
          "output_type": "execute_result",
          "data": {
            "text/plain": [
              "Text(0, 0.5, 'occurences (log scale)')"
            ]
          },
          "metadata": {},
          "execution_count": 12
        },
        {
          "output_type": "display_data",
          "data": {
            "text/plain": [
              "<Figure size 640x480 with 1 Axes>"
            ],
            "image/png": "[encoded data removed]"
          },
          "metadata": {
            "image/png": {
              "width": 569,
              "height": 432
            }
          }
        }
      ],
      "source": [
        "# Do some stats on the corpus.\n",
        "all_notes = np.concatenate(train_set)\n",
        "print(\"Number of notes:\")\n",
        "print(all_notes.shape)\n",
        "all_notes_df = pd.DataFrame(all_notes)\n",
        "print(\"Notes that do appear:\")\n",
        "unique, counts = np.unique(all_notes, return_counts=True)\n",
        "print(unique)\n",
        "print(\"Notes that don't appear:\")\n",
        "print(np.setdiff1d(np.arange(0,129),unique))\n",
        "\n",
        "print(\"Plot the relative occurences of each note:\")\n",
        "import matplotlib.pyplot as plt\n",
        "%matplotlib inline\n",
        "\n",
        "#plt.style.use('dark_background')\n",
        "plt.bar(unique, counts)\n",
        "plt.yscale('log')\n",
        "plt.xlabel('melody RNN value')\n",
        "plt.ylabel('occurences (log scale)')"
      ]
    },
    {
      "cell_type": "markdown",
      "metadata": {
        "id": "mpY2bdSCH8y2"
      },
      "source": [
        "# Define the Training RNN\n",
        "\n",
        "- The training RNN will be more complex than in the text examples.\n",
        "- Using 2 layers of LSTM 256 LSTM cells each.\n",
        "- Using an Embedding layer on the input (saves some effort in creating one-hot examples)\n",
        "- Using sparse categorical cross entropy for loss (so that ys don't have to be one-hot)"
      ]
    },
    {
      "cell_type": "code",
      "execution_count": null,
      "metadata": {
        "id": "lJwXAjVzH8y2",
        "colab": {
          "base_uri": "https://localhost:8080/"
        },
        "outputId": "bf4f20e2-3bba-48a9-88cf-e657b6769c59"
      },
      "outputs": [
        {
          "output_type": "stream",
          "name": "stdout",
          "text": [
            "Build model...\n",
            "Model: \"sequential\"\n",
            "_________________________________________________________________\n",
            " Layer (type)                Output Shape              Param #   \n",
            "=================================================================\n",
            " embedding (Embedding)       (None, 30, 256)           33280     \n",
            "                                                                 \n",
            " lstm (LSTM)                 (None, 30, 256)           525312    \n",
            "                                                                 \n",
            " lstm_1 (LSTM)               (None, 256)               525312    \n",
            "                                                                 \n",
            " dense (Dense)               (None, 130)               33410     \n",
            "                                                                 \n",
            "=================================================================\n",
            "Total params: 1,117,314\n",
            "Trainable params: 1,117,314\n",
            "Non-trainable params: 0\n",
            "_________________________________________________________________\n"
          ]
        }
      ],
      "source": [
        "from tensorflow import keras\n",
        "from tensorflow.keras.models import Sequential\n",
        "from tensorflow.keras.layers import Dense, Activation\n",
        "from tensorflow.keras.layers import LSTM, Dropout\n",
        "from tensorflow.keras.layers import Embedding\n",
        "from tensorflow.keras.optimizers import RMSprop\n",
        "from tensorflow.keras.utils import get_file\n",
        "from tensorflow.keras.models import load_model\n",
        "\n",
        "# build the model: 2-layer LSTM network.\n",
        "# Using Embedding layer and sparse_categorical_crossentropy loss function \n",
        "# to save some effort in preparing data.\n",
        "\n",
        "print('Build model...')\n",
        "model_train = Sequential()\n",
        "model_train.add(Embedding(VOCABULARY_SIZE, HIDDEN_UNITS, input_length=SEQ_LEN))\n",
        "\n",
        "# LSTM part\n",
        "model_train.add(LSTM(HIDDEN_UNITS, return_sequences=True))\n",
        "model_train.add(LSTM(HIDDEN_UNITS))\n",
        "\n",
        "# Project back to vocabulary\n",
        "model_train.add(Dense(VOCABULARY_SIZE, activation='softmax'))\n",
        "model_train.compile(loss='sparse_categorical_crossentropy', optimizer='adam')\n",
        "model_train.summary()"
      ]
    },
    {
      "cell_type": "markdown",
      "metadata": {
        "id": "8obVlP7UH8y2"
      },
      "source": [
        "# Training\n",
        "\n",
        "- we have trained this model on Google's Colaboratory system (free online Python machine learning environment, including GPU).\n",
        "- Good to train for lots of epochs, for 50 epochs it took us around 40 minutes: less is also possible.\n",
        "- Takes around 50 seconds per epoch on the free tier Google collab notebook instance with 12gb RAM and 128 Gb of storage \n",
        "\n",
        "Here's the training diagram:\n",
        "\n",
        "<img src=\"https://github.com/cpmpercussion/creative-prediction/blob/master/notebooks/figures/training_melody_rnn.png?raw=1\" style=\"width: 600px;\"/>\n",
        "\n",
        "Probably could have stopped after about 50 epochs to save some time!\n",
        "\n",
        "This trained model is included in the repo, so you can go ahead and load that, or train again with your own dataset."
      ]
    },
    {
      "cell_type": "code",
      "execution_count": null,
      "metadata": {
        "id": "M_2_8KxRH8y2",
        "colab": {
          "base_uri": "https://localhost:8080/"
        },
        "outputId": "e9686e81-2a3a-4e6c-8347-bd0818dfe904"
      },
      "outputs": [
        {
          "output_type": "stream",
          "name": "stdout",
          "text": [
            "Epoch 1/50\n",
            "101/101 [==============================] - 50s 430ms/step - loss: 2.9425\n",
            "Epoch 2/50\n",
            "101/101 [==============================] - 44s 440ms/step - loss: 2.6518\n",
            "Epoch 3/50\n",
            "101/101 [==============================] - 44s 431ms/step - loss: 2.4919\n",
            "Epoch 4/50\n",
            "101/101 [==============================] - 44s 438ms/step - loss: 2.3282\n",
            "Epoch 5/50\n",
            "101/101 [==============================] - 47s 460ms/step - loss: 2.1130\n",
            "Epoch 6/50\n",
            "101/101 [==============================] - 47s 465ms/step - loss: 1.9659\n",
            "Epoch 7/50\n",
            "101/101 [==============================] - 43s 431ms/step - loss: 1.8009\n",
            "Epoch 8/50\n",
            "101/101 [==============================] - 45s 446ms/step - loss: 1.6387\n",
            "Epoch 9/50\n",
            "101/101 [==============================] - 44s 439ms/step - loss: 1.4805\n",
            "Epoch 10/50\n",
            "101/101 [==============================] - 45s 448ms/step - loss: 1.3233\n",
            "Epoch 11/50\n",
            "101/101 [==============================] - 44s 435ms/step - loss: 1.1642\n",
            "Epoch 12/50\n",
            "101/101 [==============================] - 47s 461ms/step - loss: 1.0142\n",
            "Epoch 13/50\n",
            "101/101 [==============================] - 46s 459ms/step - loss: 0.8701\n",
            "Epoch 14/50\n",
            "101/101 [==============================] - 47s 463ms/step - loss: 0.7513\n",
            "Epoch 15/50\n",
            "101/101 [==============================] - 48s 472ms/step - loss: 0.6425\n",
            "Epoch 16/50\n",
            "101/101 [==============================] - 47s 465ms/step - loss: 0.5342\n",
            "Epoch 17/50\n",
            "101/101 [==============================] - 47s 461ms/step - loss: 0.4663\n",
            "Epoch 18/50\n",
            "101/101 [==============================] - 47s 467ms/step - loss: 0.3970\n",
            "Epoch 19/50\n",
            "101/101 [==============================] - 47s 469ms/step - loss: 0.3318\n",
            "Epoch 20/50\n",
            "101/101 [==============================] - 47s 468ms/step - loss: 0.2769\n",
            "Epoch 21/50\n",
            "101/101 [==============================] - 47s 461ms/step - loss: 0.2380\n",
            "Epoch 22/50\n",
            "101/101 [==============================] - 46s 457ms/step - loss: 0.2065\n",
            "Epoch 23/50\n",
            "101/101 [==============================] - 47s 470ms/step - loss: 0.1860\n",
            "Epoch 24/50\n",
            "101/101 [==============================] - 45s 447ms/step - loss: 0.1711\n",
            "Epoch 25/50\n",
            "101/101 [==============================] - 45s 446ms/step - loss: 0.1548\n",
            "Epoch 26/50\n",
            "101/101 [==============================] - 44s 438ms/step - loss: 0.1164\n",
            "Epoch 27/50\n",
            "101/101 [==============================] - 45s 440ms/step - loss: 0.0992\n",
            "Epoch 28/50\n",
            "101/101 [==============================] - 44s 434ms/step - loss: 0.0820\n",
            "Epoch 29/50\n",
            "101/101 [==============================] - 45s 440ms/step - loss: 0.0648\n",
            "Epoch 30/50\n",
            "101/101 [==============================] - 44s 434ms/step - loss: 0.0566\n",
            "Epoch 31/50\n",
            "101/101 [==============================] - 45s 444ms/step - loss: 0.0480\n",
            "Epoch 32/50\n",
            "101/101 [==============================] - 44s 439ms/step - loss: 0.0415\n",
            "Epoch 33/50\n",
            "101/101 [==============================] - 45s 442ms/step - loss: 0.0444\n",
            "Epoch 34/50\n",
            "101/101 [==============================] - 44s 433ms/step - loss: 0.0623\n",
            "Epoch 35/50\n",
            "101/101 [==============================] - 45s 444ms/step - loss: 0.1730\n",
            "Epoch 36/50\n",
            "101/101 [==============================] - 44s 432ms/step - loss: 0.1104\n",
            "Epoch 37/50\n",
            "101/101 [==============================] - 45s 443ms/step - loss: 0.0752\n",
            "Epoch 38/50\n",
            "101/101 [==============================] - 44s 433ms/step - loss: 0.0511\n",
            "Epoch 39/50\n",
            "101/101 [==============================] - 45s 447ms/step - loss: 0.0396\n",
            "Epoch 40/50\n",
            "101/101 [==============================] - 44s 435ms/step - loss: 0.0319\n",
            "Epoch 41/50\n",
            "101/101 [==============================] - 45s 445ms/step - loss: 0.0272\n",
            "Epoch 42/50\n",
            "101/101 [==============================] - 43s 429ms/step - loss: 0.0262\n",
            "Epoch 43/50\n",
            "101/101 [==============================] - 45s 442ms/step - loss: 0.0240\n",
            "Epoch 44/50\n",
            "101/101 [==============================] - 43s 431ms/step - loss: 0.0252\n",
            "Epoch 45/50\n",
            "101/101 [==============================] - 44s 439ms/step - loss: 0.0256\n",
            "Epoch 46/50\n",
            "101/101 [==============================] - 44s 432ms/step - loss: 0.0220\n",
            "Epoch 47/50\n",
            "101/101 [==============================] - 45s 442ms/step - loss: 0.0223\n",
            "Epoch 48/50\n",
            "101/101 [==============================] - 44s 431ms/step - loss: 0.0240\n",
            "Epoch 49/50\n",
            "101/101 [==============================] - 43s 430ms/step - loss: 0.0591\n",
            "Epoch 50/50\n",
            "101/101 [==============================] - 45s 441ms/step - loss: 0.1018\n"
          ]
        }
      ],
      "source": [
        "# Train the model (this takes time)\n",
        "model_train.fit(X, y, batch_size=BATCH_SIZE, epochs=EPOCHS)\n",
        "model_train.save(\"model-rnn.h5\")"
      ]
    },
    {
      "cell_type": "code",
      "execution_count": null,
      "metadata": {
        "id": "QrnIBSa9H8y3"
      },
      "outputs": [],
      "source": [
        "# Need to Load if necessary - don't need to do this if runs without this .\n",
        "# model_train = keras.models.load_model(\"trained-dataset-rnn.h5\")"
      ]
    },
    {
      "cell_type": "markdown",
      "metadata": {
        "id": "NajWPA4vH8y3"
      },
      "source": [
        "# Decoding Model\n",
        "\n",
        "Now we build a 1-in, 1-out model for encoding. This is the same model as for training, just with a input length of 1, and LSTM statefulness turned on.\n",
        "\n",
        "- Much faster to use the network with this model!\n",
        "- The weights are loaded directly from the saved `train_model` file."
      ]
    },
    {
      "cell_type": "code",
      "execution_count": null,
      "metadata": {
        "id": "TjBCQeH5H8y3",
        "colab": {
          "base_uri": "https://localhost:8080/",
          "height": 776
        },
        "outputId": "9b7c5f8f-e174-4209-aca5-387fee713fe8"
      },
      "outputs": [
        {
          "output_type": "stream",
          "name": "stdout",
          "text": [
            "Model: \"sequential_3\"\n",
            "_________________________________________________________________\n",
            " Layer (type)                Output Shape              Param #   \n",
            "=================================================================\n",
            " embedding_3 (Embedding)     (1, 1, 256)               33280     \n",
            "                                                                 \n",
            " lstm_6 (LSTM)               (1, 1, 256)               525312    \n",
            "                                                                 \n",
            " lstm_7 (LSTM)               (1, 256)                  525312    \n",
            "                                                                 \n",
            " dense_3 (Dense)             (1, 130)                  33410     \n",
            "                                                                 \n",
            "=================================================================\n",
            "Total params: 1,117,314\n",
            "Trainable params: 1,117,314\n",
            "Non-trainable params: 0\n",
            "_________________________________________________________________\n"
          ]
        },
        {
          "output_type": "error",
          "ename": "FileNotFoundError",
          "evalue": "ignored",
          "traceback": [
            "\u001b[0;31m---------------------------------------------------------------------------\u001b[0m",
            "\u001b[0;31mFileNotFoundError\u001b[0m                         Traceback (most recent call last)",
            "\u001b[0;32m<ipython-input-17-1114f7fa0dc6>\u001b[0m in \u001b[0;36m<cell line: 14>\u001b[0;34m()\u001b[0m\n\u001b[1;32m     12\u001b[0m \u001b[0;31m# set weights from training model\u001b[0m\u001b[0;34m\u001b[0m\u001b[0;34m\u001b[0m\u001b[0m\n\u001b[1;32m     13\u001b[0m \u001b[0;31m#model_dec.set_weights(model_train.get_weights())\u001b[0m\u001b[0;34m\u001b[0m\u001b[0;34m\u001b[0m\u001b[0m\n\u001b[0;32m---> 14\u001b[0;31m \u001b[0mmodel_dec\u001b[0m\u001b[0;34m.\u001b[0m\u001b[0mload_weights\u001b[0m\u001b[0;34m(\u001b[0m\u001b[0;34m\"trained-dataset-rnn.h5\"\u001b[0m\u001b[0;34m)\u001b[0m\u001b[0;34m\u001b[0m\u001b[0;34m\u001b[0m\u001b[0m\n\u001b[0m",
            "\u001b[0;32m/usr/local/lib/python3.9/dist-packages/keras/utils/traceback_utils.py\u001b[0m in \u001b[0;36merror_handler\u001b[0;34m(*args, **kwargs)\u001b[0m\n\u001b[1;32m     68\u001b[0m             \u001b[0;31m# To get the full stack trace, call:\u001b[0m\u001b[0;34m\u001b[0m\u001b[0;34m\u001b[0m\u001b[0m\n\u001b[1;32m     69\u001b[0m             \u001b[0;31m# `tf.debugging.disable_traceback_filtering()`\u001b[0m\u001b[0;34m\u001b[0m\u001b[0;34m\u001b[0m\u001b[0m\n\u001b[0;32m---> 70\u001b[0;31m             \u001b[0;32mraise\u001b[0m \u001b[0me\u001b[0m\u001b[0;34m.\u001b[0m\u001b[0mwith_traceback\u001b[0m\u001b[0;34m(\u001b[0m\u001b[0mfiltered_tb\u001b[0m\u001b[0;34m)\u001b[0m \u001b[0;32mfrom\u001b[0m \u001b[0;32mNone\u001b[0m\u001b[0;34m\u001b[0m\u001b[0;34m\u001b[0m\u001b[0m\n\u001b[0m\u001b[1;32m     71\u001b[0m         \u001b[0;32mfinally\u001b[0m\u001b[0;34m:\u001b[0m\u001b[0;34m\u001b[0m\u001b[0;34m\u001b[0m\u001b[0m\n\u001b[1;32m     72\u001b[0m             \u001b[0;32mdel\u001b[0m \u001b[0mfiltered_tb\u001b[0m\u001b[0;34m\u001b[0m\u001b[0;34m\u001b[0m\u001b[0m\n",
            "\u001b[0;32m/usr/local/lib/python3.9/dist-packages/h5py/_hl/files.py\u001b[0m in \u001b[0;36m__init__\u001b[0;34m(self, name, mode, driver, libver, userblock_size, swmr, rdcc_nslots, rdcc_nbytes, rdcc_w0, track_order, fs_strategy, fs_persist, fs_threshold, fs_page_size, page_buf_size, min_meta_keep, min_raw_keep, locking, alignment_threshold, alignment_interval, meta_block_size, **kwds)\u001b[0m\n\u001b[1;32m    565\u001b[0m                                  \u001b[0mfs_persist\u001b[0m\u001b[0;34m=\u001b[0m\u001b[0mfs_persist\u001b[0m\u001b[0;34m,\u001b[0m \u001b[0mfs_threshold\u001b[0m\u001b[0;34m=\u001b[0m\u001b[0mfs_threshold\u001b[0m\u001b[0;34m,\u001b[0m\u001b[0;34m\u001b[0m\u001b[0;34m\u001b[0m\u001b[0m\n\u001b[1;32m    566\u001b[0m                                  fs_page_size=fs_page_size)\n\u001b[0;32m--> 567\u001b[0;31m                 \u001b[0mfid\u001b[0m \u001b[0;34m=\u001b[0m \u001b[0mmake_fid\u001b[0m\u001b[0;34m(\u001b[0m\u001b[0mname\u001b[0m\u001b[0;34m,\u001b[0m \u001b[0mmode\u001b[0m\u001b[0;34m,\u001b[0m \u001b[0muserblock_size\u001b[0m\u001b[0;34m,\u001b[0m \u001b[0mfapl\u001b[0m\u001b[0;34m,\u001b[0m \u001b[0mfcpl\u001b[0m\u001b[0;34m,\u001b[0m \u001b[0mswmr\u001b[0m\u001b[0;34m=\u001b[0m\u001b[0mswmr\u001b[0m\u001b[0;34m)\u001b[0m\u001b[0;34m\u001b[0m\u001b[0;34m\u001b[0m\u001b[0m\n\u001b[0m\u001b[1;32m    568\u001b[0m \u001b[0;34m\u001b[0m\u001b[0m\n\u001b[1;32m    569\u001b[0m             \u001b[0;32mif\u001b[0m \u001b[0misinstance\u001b[0m\u001b[0;34m(\u001b[0m\u001b[0mlibver\u001b[0m\u001b[0;34m,\u001b[0m \u001b[0mtuple\u001b[0m\u001b[0;34m)\u001b[0m\u001b[0;34m:\u001b[0m\u001b[0;34m\u001b[0m\u001b[0;34m\u001b[0m\u001b[0m\n",
            "\u001b[0;32m/usr/local/lib/python3.9/dist-packages/h5py/_hl/files.py\u001b[0m in \u001b[0;36mmake_fid\u001b[0;34m(name, mode, userblock_size, fapl, fcpl, swmr)\u001b[0m\n\u001b[1;32m    229\u001b[0m         \u001b[0;32mif\u001b[0m \u001b[0mswmr\u001b[0m \u001b[0;32mand\u001b[0m \u001b[0mswmr_support\u001b[0m\u001b[0;34m:\u001b[0m\u001b[0;34m\u001b[0m\u001b[0;34m\u001b[0m\u001b[0m\n\u001b[1;32m    230\u001b[0m             \u001b[0mflags\u001b[0m \u001b[0;34m|=\u001b[0m \u001b[0mh5f\u001b[0m\u001b[0;34m.\u001b[0m\u001b[0mACC_SWMR_READ\u001b[0m\u001b[0;34m\u001b[0m\u001b[0;34m\u001b[0m\u001b[0m\n\u001b[0;32m--> 231\u001b[0;31m         \u001b[0mfid\u001b[0m \u001b[0;34m=\u001b[0m \u001b[0mh5f\u001b[0m\u001b[0;34m.\u001b[0m\u001b[0mopen\u001b[0m\u001b[0;34m(\u001b[0m\u001b[0mname\u001b[0m\u001b[0;34m,\u001b[0m \u001b[0mflags\u001b[0m\u001b[0;34m,\u001b[0m \u001b[0mfapl\u001b[0m\u001b[0;34m=\u001b[0m\u001b[0mfapl\u001b[0m\u001b[0;34m)\u001b[0m\u001b[0;34m\u001b[0m\u001b[0;34m\u001b[0m\u001b[0m\n\u001b[0m\u001b[1;32m    232\u001b[0m     \u001b[0;32melif\u001b[0m \u001b[0mmode\u001b[0m \u001b[0;34m==\u001b[0m \u001b[0;34m'r+'\u001b[0m\u001b[0;34m:\u001b[0m\u001b[0;34m\u001b[0m\u001b[0;34m\u001b[0m\u001b[0m\n\u001b[1;32m    233\u001b[0m         \u001b[0mfid\u001b[0m \u001b[0;34m=\u001b[0m \u001b[0mh5f\u001b[0m\u001b[0;34m.\u001b[0m\u001b[0mopen\u001b[0m\u001b[0;34m(\u001b[0m\u001b[0mname\u001b[0m\u001b[0;34m,\u001b[0m \u001b[0mh5f\u001b[0m\u001b[0;34m.\u001b[0m\u001b[0mACC_RDWR\u001b[0m\u001b[0;34m,\u001b[0m \u001b[0mfapl\u001b[0m\u001b[0;34m=\u001b[0m\u001b[0mfapl\u001b[0m\u001b[0;34m)\u001b[0m\u001b[0;34m\u001b[0m\u001b[0;34m\u001b[0m\u001b[0m\n",
            "\u001b[0;32mh5py/_objects.pyx\u001b[0m in \u001b[0;36mh5py._objects.with_phil.wrapper\u001b[0;34m()\u001b[0m\n",
            "\u001b[0;32mh5py/_objects.pyx\u001b[0m in \u001b[0;36mh5py._objects.with_phil.wrapper\u001b[0;34m()\u001b[0m\n",
            "\u001b[0;32mh5py/h5f.pyx\u001b[0m in \u001b[0;36mh5py.h5f.open\u001b[0;34m()\u001b[0m\n",
            "\u001b[0;31mFileNotFoundError\u001b[0m: [Errno 2] Unable to open file (unable to open file: name = 'trained-dataset-rnn.h5', errno = 2, error message = 'No such file or directory', flags = 0, o_flags = 0)"
          ]
        }
      ],
      "source": [
        "# Build a decoding model (input length 1, batch size 1, stateful)\n",
        "model_dec = Sequential()\n",
        "model_dec.add(Embedding(VOCABULARY_SIZE, HIDDEN_UNITS, input_length=1, batch_input_shape=(1,1)))\n",
        "# LSTM part\n",
        "model_dec.add(LSTM(HIDDEN_UNITS, stateful=True, return_sequences=True))\n",
        "model_dec.add(LSTM(HIDDEN_UNITS, stateful=True))\n",
        "\n",
        "# project back to vocabulary\n",
        "model_dec.add(Dense(VOCABULARY_SIZE, activation='softmax'))\n",
        "model_dec.compile(loss='sparse_categorical_crossentropy', optimizer='adam')\n",
        "model_dec.summary()\n",
        "# set weights from training model\n",
        "#model_dec.set_weights(model_train.get_weights())\n",
        "model_dec.load_weights(\"trained-dataset-rnn.h5\")"
      ]
    },
    {
      "cell_type": "markdown",
      "metadata": {
        "id": "c8WNnW18H8y3"
      },
      "source": [
        "# Sampling from the Model\n",
        "\n",
        "- We need define two functions for sampling:\n",
        "    - `sample`: samples from the categorical distribution output by the model, with a diversity adjustment procedure.\n",
        "    - `sample_model`: samples number of notes from the model using a one-note seed."
      ]
    },
    {
      "cell_type": "code",
      "execution_count": null,
      "metadata": {
        "id": "EnKwl5PtH8y4"
      },
      "outputs": [],
      "source": [
        "def sample(preds, temperature=1.0):\n",
        "    \"\"\" helper function to sample an index from a probability array\"\"\"\n",
        "    preds = np.asarray(preds).astype('float64')\n",
        "    preds = np.log(preds) / temperature\n",
        "    exp_preds = np.exp(preds)\n",
        "    preds = exp_preds / np.sum(exp_preds)\n",
        "    probas = np.random.multinomial(1, preds, 1)\n",
        "    return np.argmax(probas)\n",
        "\n",
        "## Sampling function\n",
        "\n",
        "def sample_model(seed, model_name, length=400, temperature=1.0):\n",
        "    '''Samples a musicRNN given a seed sequence.'''\n",
        "    generated = []  \n",
        "    generated.append(seed)\n",
        "    next_index = seed\n",
        "    for i in range(length):\n",
        "        x = np.array([next_index])\n",
        "        x = np.reshape(x,(1,1))\n",
        "        preds = model_name.predict(x, verbose=0)[0]\n",
        "        next_index = sample(preds, temperature)        \n",
        "        generated.append(next_index)\n",
        "    return np.array(generated)"
      ]
    },
    {
      "cell_type": "markdown",
      "metadata": {
        "id": "qHCF7qzPH8y4"
      },
      "source": [
        "# Let's sample some music!\n",
        "\n",
        "- Generate 127 notes + the starting note 60 (middle C) - this corresponds to 8 bars of melody\n",
        "- Turn the sequence back into a music21 stream\n",
        "- Show as musial score, play it back, or save as a MIDI file!\n",
        "\n"
      ]
    },
    {
      "cell_type": "code",
      "execution_count": null,
      "metadata": {
        "id": "9cVuNjYsH8y4"
      },
      "outputs": [],
      "source": [
        "model_dec.reset_states() # Start with LSTM state blank\n",
        "o = sample_model(68, model_dec, length=127, temperature=1.2) # generate 8 bars of melody\n",
        "\n",
        "melody_stream = noteArrayToStream(o) # turn into a music21 stream\n",
        "# melody_stream.show() # show the score.\n"
      ]
    },
    {
      "cell_type": "markdown",
      "metadata": {
        "id": "2F9rffy0H8y5"
      },
      "source": [
        "### Score example:\n",
        "\n",
        "<!-- ![](figures/music_example.png) -->"
      ]
    },
    {
      "cell_type": "markdown",
      "metadata": {
        "id": "xyuTcrvQH8y5"
      },
      "source": [
        "# Play generated Melody\n",
        "\n",
        "music21 can even play back a generated melody right in Jupyter! Cool!"
      ]
    },
    {
      "cell_type": "code",
      "execution_count": null,
      "metadata": {
        "id": "8XEfkYbSH8y5"
      },
      "outputs": [],
      "source": [
        "## Play a melody stream\n",
        "# from music21 import *\n",
        "# sp = midi.realtime.StreamPlayer(melody_stream)\n",
        "# sp.play()\n",
        "\n",
        "sp = melody_stream.write('midi','../datasets/output.mid')\n"
      ]
    },
    {
      "cell_type": "code",
      "source": [],
      "metadata": {
        "id": "lNl0AG5HbSmY"
      },
      "execution_count": null,
      "outputs": []
    },
    {
      "cell_type": "code",
      "execution_count": null,
      "metadata": {
        "id": "H7mZm-6iH8y5",
        "colab": {
          "base_uri": "https://localhost:8080/"
        },
        "outputId": "b7219f5a-68c7-4a54-fcab-ea1bd09d9da4"
      },
      "outputs": [
        {
          "output_type": "execute_result",
          "data": {
            "text/plain": [
              "PosixPath('/root/.music21rc')"
            ]
          },
          "metadata": {},
          "execution_count": 21
        }
      ],
      "source": [
        "# figure out where the user settings are kept.\n",
        "from music21 import *\n",
        "us = environment.UserSettings()\n",
        "us.getSettingsPath()"
      ]
    }
  ],
  "metadata": {
    "kernelspec": {
      "display_name": "Python 3 (ipykernel)",
      "language": "python",
      "name": "python3"
    },
    "language_info": {
      "codemirror_mode": {
        "name": "ipython",
        "version": 3
      },
      "file_extension": ".py",
      "mimetype": "text/x-python",
      "name": "python",
      "nbconvert_exporter": "python",
      "pygments_lexer": "ipython3",
      "version": "3.9.13"
    },
    "colab": {
      "provenance": []
    }
  },
  "nbformat": 4,
  "nbformat_minor": 0
}